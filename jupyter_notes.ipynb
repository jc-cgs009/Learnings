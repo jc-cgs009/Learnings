{
 "cells": [
  {
   "cell_type": "markdown",
   "id": "d74f0fda-0e5f-4fc8-99d5-c96851dec688",
   "metadata": {},
   "source": [
    "**Headings**: Use # for headings. The number of # symbols determines the level of the heading.\n",
    "\n",
    "# Heading 1\n",
    "## Heading 2\n",
    "### Heading 3\n",
    "\n",
    "**Bold and Italic**: Use ** or __ for bold, and _ or * for italic.\n",
    "\n",
    "**bold text**\n",
    "*italic text*\n",
    "\n",
    "**Lists:**\n",
    "**Unordered lists:** Use -, *, or +.\n",
    "- Item 1\n",
    "- Item 2\n",
    "- \n",
    "**Ordered lists:** Use numbers followed by a period.\n",
    "1. Item 1\n",
    "2. Item 2\n",
    "\n",
    "Once you have written your note, you can render the Markdown cell by pressing **Shift + Enter**. This will display your formatted note."
   ]
  },
  {
   "cell_type": "markdown",
   "id": "43de515c-4b35-4f2e-9899-e1c613329a8b",
   "metadata": {},
   "source": [
    "# Example Note in Markdown\n",
    "\n",
    "# Analysis Summary\n",
    "\n",
    "In this notebook, we analyzed the following data:\n",
    "\n",
    "- **Dataset:** Customer Purchase History\n",
    "- **Period:** January 2021 - December 2021\n",
    "\n",
    "## Key Findings\n",
    "\n",
    "1. **Sales Trends:**\n",
    "   - Sales peaked in Q4.\n",
    "   - Significant drop in sales during the summer months.\n",
    "\n",
    "2. **Customer Insights:**\n",
    "   - High-value customers contribute to 60% of the revenue.\n",
    "   - Majority of the customers prefer online shopping.\n",
    "\n",
    "### Recommendations\n",
    "\n",
    "- Increase marketing efforts during the summer.\n",
    "- Focus on retaining high-value customers through loyalty programs.\n",
    "\n",
    "For more details, refer to the [full report](https://example.com/full_report).\n",
    "\n"
   ]
  },
  {
   "cell_type": "code",
   "execution_count": null,
   "id": "ed314e43-3cec-44a4-97bb-4467415b9e86",
   "metadata": {},
   "outputs": [],
   "source": []
  },
  {
   "cell_type": "code",
   "execution_count": null,
   "id": "066219b8-d3e1-43ac-b728-5c49c1672fd8",
   "metadata": {},
   "outputs": [],
   "source": []
  }
 ],
 "metadata": {
  "kernelspec": {
   "display_name": "Python 3 (ipykernel)",
   "language": "python",
   "name": "python3"
  },
  "language_info": {
   "codemirror_mode": {
    "name": "ipython",
    "version": 3
   },
   "file_extension": ".py",
   "mimetype": "text/x-python",
   "name": "python",
   "nbconvert_exporter": "python",
   "pygments_lexer": "ipython3",
   "version": "3.10.6"
  }
 },
 "nbformat": 4,
 "nbformat_minor": 5
}
