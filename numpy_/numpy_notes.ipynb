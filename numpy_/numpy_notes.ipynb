{
 "cells": [
  {
   "cell_type": "markdown",
   "id": "fac3d63b-f9cd-434e-b5bc-3381ca5590c8",
   "metadata": {},
   "source": [
    "# Introduction to NumPy\n",
    "\n",
    "## What is NumPy?\n",
    "\n",
    "NumPy, short for Numerical Python, is a powerful library in Python that is used for numerical and scientific computing. It provides support for large, multi-dimensional arrays and matrices, along with a collection of mathematical functions to operate on these arrays efficiently. NumPy is widely used in data analysis, machine learning, and scientific research due to its speed and functionality.\n",
    "\n",
    "## Uses of NumPy\n",
    "\n",
    "1. **Array Handling**: NumPy allows for the creation and manipulation of n-dimensional arrays (ndarray).\n",
    "2. **Mathematical Operations**: It includes a vast range of mathematical operations (e.g., trigonometric, statistical, and algebraic functions) that can be performed on arrays.\n",
    "3. **Linear Algebra**: NumPy provides tools for performing complex linear algebra operations.\n",
    "4. **Random Number Generation**: It has utilities for generating random numbers and performing random sampling.\n",
    "5. **Integration with Other Libraries**: NumPy is the foundation for many other scientific libraries like SciPy, Pandas, and Matplotlib.\n",
    "6. **Performance**: NumPy is implemented in C, which makes it much faster for numerical operations compared to pure Python.\n",
    "\n",
    "## Difference Between NumPy Array and List\n",
    "\n",
    "### Type and Structure\n",
    "\n",
    "- **NumPy Array (ndarray)**: A homogeneous, fixed-size array of numerical data. All elements must be of the same type.\n",
    "- **Python List**: A heterogeneous, dynamically sized collection that can contain elements of different types.\n",
    "\n",
    "### Performance\n",
    "\n",
    "- **NumPy Array**: Optimized for numerical operations and can be much faster due to its implementation in C. It also supports vectorized operations, which allows element-wise operations to be applied without explicit loops.\n",
    "- **Python List**: Slower for numerical operations as it requires iteration and type checking for each element.\n",
    "\n",
    "### Memory Efficiency\n",
    "\n",
    "- **NumPy Array**: More memory-efficient due to its homogeneous nature and contiguous memory allocation.\n",
    "- **Python List**: Less memory-efficient because each element is a full Python object, including additional overhead for dynamic typing and memory management.\n",
    "\n",
    "### Functionality\n",
    "\n",
    "- **NumPy Array**: Provides a wide range of mathematical functions and capabilities, such as broadcasting, which allows operations on arrays of different shapes.\n",
    "- **Python List**: Limited in terms of direct numerical and mathematical functionality, often requiring explicit loops and external functions.\n",
    "\n",
    "### Dimensionality\n",
    "\n",
    "- **NumPy Array**: Supports multi-dimensional arrays (e.g., 2D matrices, 3D tensors) which are essential for various numerical computations.\n",
    "- **Python List**: Primarily supports one-dimensional lists, though nested lists can be used to approximate multi-dimensional structures, but with less efficiency and more complexity.\n",
    "\n",
    "## Numpy array vs list :\n",
    "\n",
    "1. A list can not directly handle mathemetical operation, while Array can.\n",
    "2. An array consumes less memory than list.\n",
    "3. Using an array is faster than list.\n",
    "4. A list can store different data types, while you can't do that in array.\n",
    "5. A list is easier to modify since a list store each element individually, it is easier to add and remove an element than array does.\n",
    "6. In list one can have nested data with different size, while you can not do the same in array.\n",
    "\n",
    "## Example Comparison\n",
    "\n",
    "### Creating a NumPy Array\n",
    "\n",
    "```python\n",
    "import numpy as np\n",
    "\n",
    "# Creating a 1D NumPy array\n",
    "array = np.array([1, 2, 3, 4, 5])\n",
    "print(array)\n"
   ]
  },
  {
   "cell_type": "code",
   "execution_count": 17,
   "id": "8b0cff44-41a7-46bc-b4d6-6afe895ce0c1",
   "metadata": {},
   "outputs": [],
   "source": [
    "import numpy as np"
   ]
  },
  {
   "cell_type": "code",
   "execution_count": 18,
   "id": "e7c7f555-1c24-4523-a91d-57820367d4c5",
   "metadata": {},
   "outputs": [],
   "source": [
    "l1 = [1, 2, 3]\n",
    "l2 = [4, 5, 6]\n",
    "n = 4"
   ]
  },
  {
   "cell_type": "code",
   "execution_count": 19,
   "id": "3a188fee-ee7f-4429-893d-4991a3d10110",
   "metadata": {},
   "outputs": [
    {
     "name": "stdout",
     "output_type": "stream",
     "text": [
      "[1, 2, 3, 4, 5, 6]\n",
      "[1, 2, 3, 1, 2, 3, 1, 2, 3, 1, 2, 3]\n"
     ]
    }
   ],
   "source": [
    "print(l1 + l2)\n",
    "print(l1 * n)"
   ]
  },
  {
   "cell_type": "code",
   "execution_count": 20,
   "id": "ddef285b-522c-44d0-b851-7c75e6d109a3",
   "metadata": {},
   "outputs": [
    {
     "name": "stdout",
     "output_type": "stream",
     "text": [
      "<class 'numpy.ndarray'>\n"
     ]
    }
   ],
   "source": [
    "a = np.array([1, 2, 3])\n",
    "b = np.array([4, 5, 6])\n",
    "c = np.array([2])\n",
    "\n",
    "print(type(c))"
   ]
  },
  {
   "cell_type": "code",
   "execution_count": 21,
   "id": "ba111c4d-13c9-40c9-965c-c09c0cc61c45",
   "metadata": {},
   "outputs": [
    {
     "name": "stdout",
     "output_type": "stream",
     "text": [
      "[5 7 9]\n",
      "[ 4 10 18]\n",
      "[2 4 6]\n"
     ]
    }
   ],
   "source": [
    "# it performs direct mathemetical oprations.\n",
    "print(a + b)\n",
    "print(a * b)\n",
    "print(a * c)"
   ]
  },
  {
   "cell_type": "code",
   "execution_count": 22,
   "id": "9c60cbf2-e282-4ec8-92a3-288c9813628b",
   "metadata": {},
   "outputs": [
    {
     "name": "stdout",
     "output_type": "stream",
     "text": [
      "['1' '2' '3']\n",
      "[4. 5. 6.]\n"
     ]
    }
   ],
   "source": [
    "# numpy array doesn't support multiple data type.\n",
    "\n",
    "x = np.array([1, 2, '3'])\n",
    "y = np.array([4, 5.0, 6])\n",
    "\n",
    "print(x)\n",
    "print(y)"
   ]
  },
  {
   "cell_type": "code",
   "execution_count": 24,
   "id": "e06fefff-c1ee-4b6f-8193-85c88c056f5b",
   "metadata": {},
   "outputs": [
    {
     "name": "stdout",
     "output_type": "stream",
     "text": [
      "[[1, 2], [3, 4, 5]]\n"
     ]
    }
   ],
   "source": [
    "# In list one can have nested data with different size, while you can not do the same in array.\n",
    "\n",
    "l = [[1, 2], [3, 4, 5]]\n",
    "print(l)"
   ]
  },
  {
   "cell_type": "code",
   "execution_count": 26,
   "id": "51922c9f-b3e6-4b39-b3f5-461fe3ae7a48",
   "metadata": {},
   "outputs": [
    {
     "ename": "ValueError",
     "evalue": "setting an array element with a sequence. The requested array has an inhomogeneous shape after 1 dimensions. The detected shape was (2,) + inhomogeneous part.",
     "output_type": "error",
     "traceback": [
      "\u001b[1;31m---------------------------------------------------------------------------\u001b[0m",
      "\u001b[1;31mValueError\u001b[0m                                Traceback (most recent call last)",
      "Cell \u001b[1;32mIn [26], line 1\u001b[0m\n\u001b[1;32m----> 1\u001b[0m arr \u001b[38;5;241m=\u001b[39m \u001b[43mnp\u001b[49m\u001b[38;5;241;43m.\u001b[39;49m\u001b[43marray\u001b[49m\u001b[43m(\u001b[49m\u001b[43m[\u001b[49m\u001b[43m[\u001b[49m\u001b[38;5;241;43m1\u001b[39;49m\u001b[43m,\u001b[49m\u001b[43m \u001b[49m\u001b[38;5;241;43m2\u001b[39;49m\u001b[43m]\u001b[49m\u001b[43m,\u001b[49m\u001b[43m \u001b[49m\u001b[43m[\u001b[49m\u001b[38;5;241;43m3\u001b[39;49m\u001b[43m,\u001b[49m\u001b[43m \u001b[49m\u001b[38;5;241;43m4\u001b[39;49m\u001b[43m,\u001b[49m\u001b[43m \u001b[49m\u001b[38;5;241;43m5\u001b[39;49m\u001b[43m]\u001b[49m\u001b[43m]\u001b[49m\u001b[43m)\u001b[49m\n\u001b[0;32m      2\u001b[0m \u001b[38;5;28mprint\u001b[39m(arr)\n",
      "\u001b[1;31mValueError\u001b[0m: setting an array element with a sequence. The requested array has an inhomogeneous shape after 1 dimensions. The detected shape was (2,) + inhomogeneous part."
     ]
    }
   ],
   "source": [
    "arr = np.array([[1, 2], [3, 4, 5]])\n",
    "print(arr)"
   ]
  },
  {
   "cell_type": "code",
   "execution_count": 27,
   "id": "9a1d06da-4ef2-45a4-81b8-f7a8d00ccd32",
   "metadata": {},
   "outputs": [
    {
     "name": "stdout",
     "output_type": "stream",
     "text": [
      "[[1 2 3]\n",
      " [3 4 5]]\n"
     ]
    }
   ],
   "source": [
    "arr = np.array([[1, 2, 3], [3, 4, 5]])\n",
    "print(arr)"
   ]
  },
  {
   "cell_type": "markdown",
   "id": "d102b908-8c0e-47c4-be19-d6662e6ab260",
   "metadata": {},
   "source": [
    "### Creation, Indexing, and Slicing of Numpy Arrays"
   ]
  },
  {
   "cell_type": "code",
   "execution_count": 29,
   "id": "63fab1bf-a7f8-480a-af1c-3eaac01ace7f",
   "metadata": {},
   "outputs": [
    {
     "name": "stdout",
     "output_type": "stream",
     "text": [
      "[[1 2 3]\n",
      " [4 5 6]\n",
      " [7 8 9]]\n"
     ]
    }
   ],
   "source": [
    "# creating n dimentional array.\n",
    "\n",
    "arr = np.array(\n",
    "    [[1 ,2, 3],\n",
    "    [4, 5, 6],\n",
    "    [7, 8, 9]]\n",
    ")\n",
    "\n",
    "print(arr)"
   ]
  },
  {
   "cell_type": "code",
   "execution_count": 30,
   "id": "f293afbd-47b1-4f0b-8104-6db1690b7b18",
   "metadata": {},
   "outputs": [],
   "source": [
    "# slicing an array\n",
    "\n",
    "arr = np.array([1, 2, 3, 4, 5, 6, 7, 8, 9, 0])"
   ]
  },
  {
   "cell_type": "code",
   "execution_count": 31,
   "id": "0dd20396-714f-4a44-b676-c478b684ff28",
   "metadata": {},
   "outputs": [
    {
     "name": "stdout",
     "output_type": "stream",
     "text": [
      "[1 2 3 4 5 6 7 8 9 0]\n",
      "[1 2 3 4]\n",
      "[4 5 6 7 8 9 0]\n",
      "[3 4 5 6 7 8 9]\n",
      "[1 3 5 7 9]\n"
     ]
    }
   ],
   "source": [
    "print(arr[:])\n",
    "print(arr[:4])\n",
    "print(arr[3:])\n",
    "print(arr[2:9])\n",
    "print(arr[::2])"
   ]
  },
  {
   "cell_type": "code",
   "execution_count": 33,
   "id": "24572f36-c3d5-476d-b314-3466109e0747",
   "metadata": {},
   "outputs": [],
   "source": [
    "# slicing in n dimentional array\n",
    "\n",
    "arr = np.array(\n",
    "    [[1 ,2, 3],\n",
    "    [4, 5, 6]]\n",
    ")"
   ]
  },
  {
   "cell_type": "code",
   "execution_count": 34,
   "id": "fffdf0f7-9c94-4488-a5df-840720e1219c",
   "metadata": {},
   "outputs": [
    {
     "name": "stdout",
     "output_type": "stream",
     "text": [
      "[[1 2]\n",
      " [4 5]]\n"
     ]
    }
   ],
   "source": [
    "print(arr[0:2, 0:2])"
   ]
  },
  {
   "cell_type": "code",
   "execution_count": 40,
   "id": "7004b850-bc18-461e-b1d7-c2d51a84529d",
   "metadata": {},
   "outputs": [
    {
     "name": "stdout",
     "output_type": "stream",
     "text": [
      "[[1 2 3]\n",
      " [4 5 6]]\n"
     ]
    }
   ],
   "source": [
    "# for both it give 3 values.\n",
    "print(arr[0:2, 0:3])"
   ]
  },
  {
   "cell_type": "code",
   "execution_count": 41,
   "id": "e3799b1b-43c4-4544-9e91-fc4c01b94ebb",
   "metadata": {},
   "outputs": [
    {
     "name": "stdout",
     "output_type": "stream",
     "text": [
      "[2 3]\n"
     ]
    }
   ],
   "source": [
    "# here we are slicing the list present in oth index of array.\n",
    "print(arr[0, 1:3])"
   ]
  },
  {
   "cell_type": "code",
   "execution_count": 44,
   "id": "f7b9101b-06ca-4659-8d0a-810e2c7edae9",
   "metadata": {},
   "outputs": [
    {
     "name": "stdout",
     "output_type": "stream",
     "text": [
      "6\n"
     ]
    }
   ],
   "source": [
    "print(arr[1,2])"
   ]
  },
  {
   "cell_type": "code",
   "execution_count": 45,
   "id": "9ab57d2a-2463-49ab-a2fb-17ab471c4332",
   "metadata": {},
   "outputs": [
    {
     "ename": "IndexError",
     "evalue": "index 2 is out of bounds for axis 0 with size 2",
     "output_type": "error",
     "traceback": [
      "\u001b[1;31m---------------------------------------------------------------------------\u001b[0m",
      "\u001b[1;31mIndexError\u001b[0m                                Traceback (most recent call last)",
      "Cell \u001b[1;32mIn [45], line 1\u001b[0m\n\u001b[1;32m----> 1\u001b[0m \u001b[38;5;28mprint\u001b[39m(\u001b[43marr\u001b[49m\u001b[43m[\u001b[49m\u001b[38;5;241;43m2\u001b[39;49m\u001b[43m]\u001b[49m)\n",
      "\u001b[1;31mIndexError\u001b[0m: index 2 is out of bounds for axis 0 with size 2"
     ]
    }
   ],
   "source": [
    "print(arr[2])"
   ]
  },
  {
   "cell_type": "code",
   "execution_count": 46,
   "id": "010eeb68-116a-40a3-8b3f-1f717089a442",
   "metadata": {},
   "outputs": [
    {
     "ename": "IndexError",
     "evalue": "index 4 is out of bounds for axis 1 with size 3",
     "output_type": "error",
     "traceback": [
      "\u001b[1;31m---------------------------------------------------------------------------\u001b[0m",
      "\u001b[1;31mIndexError\u001b[0m                                Traceback (most recent call last)",
      "Cell \u001b[1;32mIn [46], line 1\u001b[0m\n\u001b[1;32m----> 1\u001b[0m \u001b[38;5;28mprint\u001b[39m(\u001b[43marr\u001b[49m\u001b[43m[\u001b[49m\u001b[38;5;241;43m0\u001b[39;49m\u001b[43m,\u001b[49m\u001b[43m \u001b[49m\u001b[38;5;241;43m4\u001b[39;49m\u001b[43m]\u001b[49m)\n",
      "\u001b[1;31mIndexError\u001b[0m: index 4 is out of bounds for axis 1 with size 3"
     ]
    }
   ],
   "source": [
    "print(arr[0, 4])"
   ]
  },
  {
   "cell_type": "code",
   "execution_count": 47,
   "id": "c5682bb0-139b-41f8-ac20-a4a7d258fccc",
   "metadata": {},
   "outputs": [
    {
     "name": "stdout",
     "output_type": "stream",
     "text": [
      "[1 2 3]\n"
     ]
    }
   ],
   "source": [
    "print(arr[0, :100])"
   ]
  },
  {
   "cell_type": "code",
   "execution_count": 49,
   "id": "eb5c8906-79e5-42cf-80c9-a41cd5e6f1e7",
   "metadata": {},
   "outputs": [
    {
     "name": "stdout",
     "output_type": "stream",
     "text": [
      "[[1 2 3 5]\n",
      " [4 5 6 9]\n",
      " [7 8 9 0]]\n",
      "data_type : int32\n",
      "shape : (3, 4)\n",
      "size : 12\n",
      "n-dimention : 2\n"
     ]
    }
   ],
   "source": [
    "arr = np.array(\n",
    "    [[1 ,2, 3, 5],\n",
    "    [4, 5, 6, 9],\n",
    "    [7, 8, 9, 0]]\n",
    ")\n",
    "\n",
    "print(arr)\n",
    "print('data_type :', arr.dtype)\n",
    "print('shape :', np.shape(arr))\n",
    "print('size :', np.size(arr))\n",
    "print('n-dimention :', np.ndim(arr))"
   ]
  },
  {
   "cell_type": "markdown",
   "id": "cc50b2c5-d9d2-4196-b05c-ae7c420f34a1",
   "metadata": {},
   "source": [
    "### Inspecting an Array"
   ]
  },
  {
   "cell_type": "code",
   "execution_count": 51,
   "id": "9159e8b7-76db-4ef8-a6b4-49a44dc38a70",
   "metadata": {},
   "outputs": [
    {
     "name": "stdout",
     "output_type": "stream",
     "text": [
      "[[1 2 3 4]\n",
      " [5 6 7 8]\n",
      " [9 0 3 5]]\n"
     ]
    }
   ],
   "source": [
    "l = [[1,2,3,4],[5,6,7,8],[9,0,3,5]]\n",
    "\n",
    "arr = np.array(l)\n",
    "print(arr)"
   ]
  },
  {
   "cell_type": "code",
   "execution_count": 64,
   "id": "6e5dfdfe-6aa9-4e38-822e-f7ebdb6f3ec4",
   "metadata": {},
   "outputs": [
    {
     "name": "stdout",
     "output_type": "stream",
     "text": [
      "shape : (3, 4)\n",
      "shape : (3, 4)\n"
     ]
    }
   ],
   "source": [
    "# rows, column\n",
    "print('shape :', arr.shape)\n",
    "print('shape :', np.shape(arr))"
   ]
  },
  {
   "cell_type": "code",
   "execution_count": 65,
   "id": "d76f9446-a86f-49f5-8035-aa8a2c95b884",
   "metadata": {},
   "outputs": [
    {
     "name": "stdout",
     "output_type": "stream",
     "text": [
      "length : 3\n"
     ]
    }
   ],
   "source": [
    "# number of nested value\n",
    "print('length :', len(arr))"
   ]
  },
  {
   "cell_type": "code",
   "execution_count": 66,
   "id": "6f737bdb-6edd-4a23-8ee7-e2bac77d9130",
   "metadata": {},
   "outputs": [
    {
     "name": "stdout",
     "output_type": "stream",
     "text": [
      "size : 12\n"
     ]
    }
   ],
   "source": [
    "# number of elements\n",
    "print('size :', np.size(arr))"
   ]
  },
  {
   "cell_type": "code",
   "execution_count": 67,
   "id": "3c341b43-733b-4eea-a6c5-0290123a4b03",
   "metadata": {},
   "outputs": [
    {
     "name": "stdout",
     "output_type": "stream",
     "text": [
      "type : <class 'numpy.ndarray'>\n"
     ]
    }
   ],
   "source": [
    "# datatype of variable\n",
    "print('type :', type(arr))"
   ]
  },
  {
   "cell_type": "code",
   "execution_count": 68,
   "id": "2dba21e7-f0f7-4564-9927-41ad0d34c3a1",
   "metadata": {},
   "outputs": [
    {
     "name": "stdout",
     "output_type": "stream",
     "text": [
      "dtype : int32\n"
     ]
    }
   ],
   "source": [
    "# datatype of array\n",
    "print('dtype :', arr.dtype)"
   ]
  },
  {
   "cell_type": "code",
   "execution_count": 69,
   "id": "edacddf0-d9c9-4d3b-b2a3-d59f4374b429",
   "metadata": {},
   "outputs": [
    {
     "name": "stdout",
     "output_type": "stream",
     "text": [
      "[[1. 2. 3. 4.]\n",
      " [5. 6. 7. 8.]\n",
      " [9. 0. 3. 5.]]\n"
     ]
    }
   ],
   "source": [
    "# convertion the data type\n",
    "\n",
    "print(arr.astype(float))"
   ]
  },
  {
   "cell_type": "code",
   "execution_count": 70,
   "id": "07872843-83ab-4a24-b343-c3e38dec3ec5",
   "metadata": {},
   "outputs": [
    {
     "name": "stdout",
     "output_type": "stream",
     "text": [
      "[['1' '2' '3' '4']\n",
      " ['5' '6' '7' '8']\n",
      " ['9' '0' '3' '5']]\n"
     ]
    }
   ],
   "source": [
    "print(arr.astype(str))"
   ]
  },
  {
   "cell_type": "code",
   "execution_count": 71,
   "id": "c81883dd-63bb-4fb7-abc0-415b6350060c",
   "metadata": {},
   "outputs": [
    {
     "name": "stdout",
     "output_type": "stream",
     "text": [
      "[['1' '2' '3' '5']\n",
      " ['4' '5' '6' '9']\n",
      " ['7' '8' '9' '0']]\n"
     ]
    }
   ],
   "source": [
    "arr = np.array(\n",
    "    [[1 ,2, 3, '5'],\n",
    "    [4, 5, 6, 9],\n",
    "    [7, 8, 9, 0]]\n",
    ")\n",
    "\n",
    "print(arr)"
   ]
  },
  {
   "cell_type": "code",
   "execution_count": 72,
   "id": "d8565d56-23de-4219-a853-5f0ac22c4b1f",
   "metadata": {},
   "outputs": [
    {
     "name": "stdout",
     "output_type": "stream",
     "text": [
      "[[1 2 3 5]\n",
      " [4 5 6 9]\n",
      " [7 8 9 0]]\n"
     ]
    }
   ],
   "source": [
    "print(arr.astype(int))"
   ]
  },
  {
   "cell_type": "code",
   "execution_count": 74,
   "id": "15e62647-7cad-44ba-b390-a58050bdeac0",
   "metadata": {},
   "outputs": [
    {
     "name": "stdout",
     "output_type": "stream",
     "text": [
      "[[1.  2.  3.8 5. ]\n",
      " [4.  5.  6.  9. ]\n",
      " [7.  8.  9.  0. ]]\n"
     ]
    }
   ],
   "source": [
    "arr = np.array(\n",
    "    [[1 ,2, 3.8, 5],\n",
    "    [4, 5, 6, 9],\n",
    "    [7, 8, 9, 0]]\n",
    ")\n",
    "\n",
    "print(arr)"
   ]
  },
  {
   "cell_type": "code",
   "execution_count": 73,
   "id": "80f2d5b3-bc9b-420b-8da7-4ef65b7573ff",
   "metadata": {},
   "outputs": [
    {
     "name": "stdout",
     "output_type": "stream",
     "text": [
      "[['1' '2' '3.8' '5']\n",
      " ['4' '5' '6' '9']\n",
      " ['7' '8' '9' '0']]\n"
     ]
    }
   ],
   "source": [
    "arr = np.array(\n",
    "    [[1 ,2, 3.8, '5'],\n",
    "    [4, 5, 6, 9],\n",
    "    [7, 8, 9, 0]]\n",
    ")\n",
    "\n",
    "print(arr)"
   ]
  },
  {
   "cell_type": "code",
   "execution_count": 75,
   "id": "6340b869-334d-4596-af5d-afaaa0ab2691",
   "metadata": {},
   "outputs": [
    {
     "name": "stdout",
     "output_type": "stream",
     "text": [
      "[[1 2 3 5]\n",
      " [4 5 6 9]\n",
      " [7 8 9 0]]\n"
     ]
    }
   ],
   "source": [
    "print(arr.astype(int))"
   ]
  },
  {
   "cell_type": "code",
   "execution_count": 76,
   "id": "2d5531b6-5b39-4df3-9872-064104cf2514",
   "metadata": {},
   "outputs": [
    {
     "name": "stdout",
     "output_type": "stream",
     "text": [
      "[[1.  2.  3.8 5. ]\n",
      " [4.  5.  6.  9. ]\n",
      " [7.  8.  9.  0. ]]\n"
     ]
    }
   ],
   "source": [
    "print(arr.astype(float))"
   ]
  },
  {
   "cell_type": "code",
   "execution_count": 77,
   "id": "6deae5f5-b68d-4b9d-8195-c69298d6dd21",
   "metadata": {},
   "outputs": [
    {
     "name": "stdout",
     "output_type": "stream",
     "text": [
      "[['1' '2' '3.8' 'hello']\n",
      " ['4' '5' '6' '9']\n",
      " ['7' '8' '9' '0']]\n"
     ]
    }
   ],
   "source": [
    "arr = np.array(\n",
    "    [[1 ,2, 3.8, 'hello'],\n",
    "    [4, 5, 6, 9],\n",
    "    [7, 8, 9, 0]]\n",
    ")\n",
    "\n",
    "print(arr)"
   ]
  },
  {
   "cell_type": "code",
   "execution_count": 78,
   "id": "eefcabad-3065-4979-bf9f-5a82434cec72",
   "metadata": {},
   "outputs": [
    {
     "ename": "ValueError",
     "evalue": "invalid literal for int() with base 10: '3.8'",
     "output_type": "error",
     "traceback": [
      "\u001b[1;31m---------------------------------------------------------------------------\u001b[0m",
      "\u001b[1;31mValueError\u001b[0m                                Traceback (most recent call last)",
      "Cell \u001b[1;32mIn [78], line 1\u001b[0m\n\u001b[1;32m----> 1\u001b[0m \u001b[38;5;28mprint\u001b[39m(\u001b[43marr\u001b[49m\u001b[38;5;241;43m.\u001b[39;49m\u001b[43mastype\u001b[49m\u001b[43m(\u001b[49m\u001b[38;5;28;43mint\u001b[39;49m\u001b[43m)\u001b[49m)\n",
      "\u001b[1;31mValueError\u001b[0m: invalid literal for int() with base 10: '3.8'"
     ]
    }
   ],
   "source": [
    "print(arr.astype(int))"
   ]
  },
  {
   "cell_type": "markdown",
   "id": "fbf3e12b-8662-4c0c-a241-8c6e019406e0",
   "metadata": {},
   "source": [
    "### Mathematical Operations and Functions on Arrays"
   ]
  },
  {
   "cell_type": "code",
   "execution_count": 87,
   "id": "7e3d70e4-73f6-4734-8155-3f0ad40f4fef",
   "metadata": {},
   "outputs": [],
   "source": [
    "arr1 = np.array([[1,2,3],[4,5,6]])\n",
    "arr2 = np.array([[2,5,8],[9,5,3]])\n",
    "arr3 = np.array([2])"
   ]
  },
  {
   "cell_type": "code",
   "execution_count": 88,
   "id": "97ea9ae6-2af0-4b0c-a610-ec2845f9d510",
   "metadata": {},
   "outputs": [
    {
     "name": "stdout",
     "output_type": "stream",
     "text": [
      "[[ 3  7 11]\n",
      " [13 10  9]]\n",
      "--------------------------------------------------\n",
      "[[ 3  7 11]\n",
      " [13 10  9]]\n"
     ]
    }
   ],
   "source": [
    "print(arr1 + arr2)\n",
    "print('-'*50)\n",
    "print(np.add(arr1, arr2))"
   ]
  },
  {
   "cell_type": "code",
   "execution_count": 89,
   "id": "aaca7538-c09c-424a-9086-bfdca74a42c2",
   "metadata": {},
   "outputs": [
    {
     "name": "stdout",
     "output_type": "stream",
     "text": [
      "[[-1 -3 -5]\n",
      " [-5  0  3]]\n",
      "--------------------------------------------------\n",
      "[[-1 -3 -5]\n",
      " [-5  0  3]]\n"
     ]
    }
   ],
   "source": [
    "print(arr1 - arr2)\n",
    "print('-'*50)\n",
    "print(np.subtract(arr1, arr2))"
   ]
  },
  {
   "cell_type": "code",
   "execution_count": 90,
   "id": "ed02bef7-3211-4051-b930-6191012b8168",
   "metadata": {},
   "outputs": [
    {
     "name": "stdout",
     "output_type": "stream",
     "text": [
      "[[ 2 10 24]\n",
      " [36 25 18]]\n",
      "--------------------------------------------------\n",
      "[[ 2 10 24]\n",
      " [36 25 18]]\n"
     ]
    }
   ],
   "source": [
    "print(arr1 * arr2)\n",
    "print('-'*50)\n",
    "print(np.multiply(arr1, arr2))"
   ]
  },
  {
   "cell_type": "code",
   "execution_count": 91,
   "id": "ab0bb4dd-652f-41fe-93e0-ae6efdfa2dd9",
   "metadata": {},
   "outputs": [
    {
     "name": "stdout",
     "output_type": "stream",
     "text": [
      "[[0.5        0.4        0.375     ]\n",
      " [0.44444444 1.         2.        ]]\n",
      "--------------------------------------------------\n",
      "[[0.5        0.4        0.375     ]\n",
      " [0.44444444 1.         2.        ]]\n"
     ]
    }
   ],
   "source": [
    "print(arr1 / arr2)\n",
    "print('-'*50)\n",
    "print(np.divide(arr1, arr2))"
   ]
  },
  {
   "cell_type": "code",
   "execution_count": 93,
   "id": "c2fcc912-8bcd-404c-9336-07e98eb49d96",
   "metadata": {},
   "outputs": [
    {
     "name": "stdout",
     "output_type": "stream",
     "text": [
      "[[1 2 3]\n",
      " [4 5 6]]\n",
      "--------------------------------------------------\n",
      "[[ 1  4  9]\n",
      " [16 25 36]]\n"
     ]
    }
   ],
   "source": [
    "print(arr1)\n",
    "print('-'*50)\n",
    "print(np.power(arr1, arr3))"
   ]
  },
  {
   "cell_type": "code",
   "execution_count": 95,
   "id": "10a3fc54-1d79-4c92-8c96-094bb3d914ed",
   "metadata": {},
   "outputs": [
    {
     "name": "stdout",
     "output_type": "stream",
     "text": [
      "[  4  16  64  81 100]\n",
      "--------------------------------------------------\n",
      "[ 2.  4.  8.  9. 10.]\n"
     ]
    }
   ],
   "source": [
    "arr = np.array([4,16,64,81,100])\n",
    "\n",
    "print(arr)\n",
    "print('-'*50)\n",
    "print(np.sqrt(arr))"
   ]
  },
  {
   "cell_type": "markdown",
   "id": "46360d2d-df50-4d96-a66b-8c6b1efaebc5",
   "metadata": {},
   "source": [
    "### Combining and Splitting Arrays"
   ]
  },
  {
   "cell_type": "code",
   "execution_count": 4,
   "id": "65fdfb38-d8ab-4701-b43e-5811ab4d3d70",
   "metadata": {},
   "outputs": [
    {
     "name": "stdout",
     "output_type": "stream",
     "text": [
      "[1 2 3 4 5 6]\n"
     ]
    }
   ],
   "source": [
    "# Concatenate\n",
    "import numpy as np\n",
    "\n",
    "arr1 = np.array([1, 2, 3])\n",
    "arr2 = np.array([4, 5, 6])\n",
    "\n",
    "print(np.concatenate([arr1, arr2]))"
   ]
  },
  {
   "cell_type": "code",
   "execution_count": 5,
   "id": "e631da37-1d1b-4436-b730-699b5dbaa0d9",
   "metadata": {},
   "outputs": [
    {
     "name": "stdout",
     "output_type": "stream",
     "text": [
      "[[ 1  2  3]\n",
      " [ 4  5  6]\n",
      " [10 20 30]\n",
      " [40 50 60]]\n"
     ]
    }
   ],
   "source": [
    "arr1 = np.array([[1, 2, 3], [4, 5, 6]])\n",
    "arr2 = np.array([[10, 20, 30], [40, 50, 60]])\n",
    "\n",
    "print(np.concatenate([arr1, arr2]))"
   ]
  },
  {
   "cell_type": "code",
   "execution_count": 6,
   "id": "ece8c591-3fba-4897-bd1c-28c369c92829",
   "metadata": {},
   "outputs": [
    {
     "name": "stdout",
     "output_type": "stream",
     "text": [
      "[[ 1  2  3]\n",
      " [ 4  5  6]\n",
      " [10 20 30]\n",
      " [40 50 60]]\n"
     ]
    }
   ],
   "source": [
    "print(np.concatenate([arr1, arr2], axis = 0))"
   ]
  },
  {
   "cell_type": "code",
   "execution_count": 7,
   "id": "76b473d7-f051-4d52-bd36-cf8a6b624bae",
   "metadata": {},
   "outputs": [
    {
     "name": "stdout",
     "output_type": "stream",
     "text": [
      "[[ 1  2  3 10 20 30]\n",
      " [ 4  5  6 40 50 60]]\n"
     ]
    }
   ],
   "source": [
    "print(np.concatenate([arr1, arr2], axis = 1))"
   ]
  },
  {
   "cell_type": "code",
   "execution_count": 8,
   "id": "3c687c59-d7d4-486a-8042-33f1d21873b2",
   "metadata": {},
   "outputs": [
    {
     "name": "stdout",
     "output_type": "stream",
     "text": [
      "[[ 1  2  3 10 20 30]\n",
      " [ 4  5  6 40 50 60]]\n"
     ]
    }
   ],
   "source": [
    "print(np.hstack([arr1, arr2])) # horizontal concatenation"
   ]
  },
  {
   "cell_type": "code",
   "execution_count": 9,
   "id": "db978cae-2926-40bc-8933-408b9d41a65c",
   "metadata": {},
   "outputs": [
    {
     "name": "stdout",
     "output_type": "stream",
     "text": [
      "[[ 1  2  3]\n",
      " [ 4  5  6]\n",
      " [10 20 30]\n",
      " [40 50 60]]\n"
     ]
    }
   ],
   "source": [
    "print(np.vstack([arr1, arr2])) # vertical concatenation"
   ]
  },
  {
   "cell_type": "code",
   "execution_count": 15,
   "id": "750f63cd-1dae-4c5c-bb38-d4c079979c27",
   "metadata": {},
   "outputs": [
    {
     "name": "stdout",
     "output_type": "stream",
     "text": [
      "[array([10, 20, 30]), array([40, 50, 60])]\n"
     ]
    }
   ],
   "source": [
    "# Split\n",
    "\n",
    "arr = np.array([10, 20, 30, 40, 50, 60])\n",
    "\n",
    "res = np.array_split(arr, 2)\n",
    "print(res)"
   ]
  },
  {
   "cell_type": "code",
   "execution_count": 21,
   "id": "5b8e47c1-4e9d-44f0-8af9-f74c9975d2c7",
   "metadata": {},
   "outputs": [
    {
     "name": "stdout",
     "output_type": "stream",
     "text": [
      "[10 20 30]\n"
     ]
    }
   ],
   "source": [
    "print(res[0])"
   ]
  },
  {
   "cell_type": "code",
   "execution_count": 16,
   "id": "4f372968-bc25-4a7c-8995-b4e05bc18ed3",
   "metadata": {},
   "outputs": [
    {
     "name": "stdout",
     "output_type": "stream",
     "text": [
      "[array([10, 20]), array([30, 40]), array([50, 60])]\n"
     ]
    }
   ],
   "source": [
    "print(np.array_split(arr, 3))"
   ]
  },
  {
   "cell_type": "code",
   "execution_count": 17,
   "id": "af92789c-5df2-479b-bf3d-87a30fa22930",
   "metadata": {},
   "outputs": [
    {
     "name": "stdout",
     "output_type": "stream",
     "text": [
      "[array([10, 20]), array([30, 40]), array([50]), array([60])]\n"
     ]
    }
   ],
   "source": [
    "print(np.array_split(arr, 4))"
   ]
  },
  {
   "cell_type": "code",
   "execution_count": 18,
   "id": "d64221aa-b9b5-427e-a696-bb7ee3e113cd",
   "metadata": {},
   "outputs": [
    {
     "name": "stdout",
     "output_type": "stream",
     "text": [
      "[array([10, 20]), array([30]), array([40]), array([50]), array([60])]\n"
     ]
    }
   ],
   "source": [
    "print(np.array_split(arr, 5))"
   ]
  },
  {
   "cell_type": "code",
   "execution_count": 19,
   "id": "7b96b956-b496-4537-89ec-5fadf4c08b7e",
   "metadata": {},
   "outputs": [
    {
     "name": "stdout",
     "output_type": "stream",
     "text": [
      "[array([10]), array([20]), array([30]), array([40]), array([50]), array([60])]\n"
     ]
    }
   ],
   "source": [
    "print(np.array_split(arr, 6))"
   ]
  },
  {
   "cell_type": "code",
   "execution_count": 20,
   "id": "90f43d70-824c-4eb6-abdb-8f304741f278",
   "metadata": {},
   "outputs": [
    {
     "name": "stdout",
     "output_type": "stream",
     "text": [
      "[array([10]), array([20]), array([30]), array([40]), array([50]), array([60]), array([], dtype=int32)]\n"
     ]
    }
   ],
   "source": [
    "print(np.array_split(arr, 7))"
   ]
  },
  {
   "cell_type": "code",
   "execution_count": 22,
   "id": "dc6324cf-581e-4216-98f9-86e9098d8d95",
   "metadata": {},
   "outputs": [
    {
     "name": "stdout",
     "output_type": "stream",
     "text": [
      "[array([[1, 2, 3]]), array([[4, 5, 6]]), array([], shape=(0, 3), dtype=int32)]\n"
     ]
    }
   ],
   "source": [
    "arr = np.array([[1, 2, 3], [4, 5, 6]])\n",
    "\n",
    "res = np.array_split(arr, 3)\n",
    "print(res)"
   ]
  },
  {
   "cell_type": "code",
   "execution_count": 23,
   "id": "1749e5ff-2f0e-4709-ae31-5e4f9ad8037d",
   "metadata": {},
   "outputs": [
    {
     "name": "stdout",
     "output_type": "stream",
     "text": [
      "[]\n"
     ]
    }
   ],
   "source": [
    "print(res[2])"
   ]
  },
  {
   "cell_type": "code",
   "execution_count": 25,
   "id": "db3ad3d8-1277-4dfb-8a33-0a88aaff284d",
   "metadata": {},
   "outputs": [
    {
     "name": "stdout",
     "output_type": "stream",
     "text": [
      "[array([[1, 2, 3]]), array([[4, 5, 6]])]\n"
     ]
    }
   ],
   "source": [
    "print(np.array_split(arr, 2))"
   ]
  },
  {
   "cell_type": "code",
   "execution_count": 27,
   "id": "8337120d-7bbc-4e67-ac78-2d524633c921",
   "metadata": {},
   "outputs": [
    {
     "name": "stdout",
     "output_type": "stream",
     "text": [
      "[]\n"
     ]
    }
   ],
   "source": [
    "print(np.array_split(arr, 4)[3])"
   ]
  },
  {
   "cell_type": "markdown",
   "id": "8baebdd4-7538-4e41-9895-cdf188de5cd6",
   "metadata": {},
   "source": [
    "### Adding and Removing Elements in the Arrays"
   ]
  },
  {
   "cell_type": "code",
   "execution_count": 29,
   "id": "be79cd99-d270-46ba-b4a2-bdb94a7e8025",
   "metadata": {},
   "outputs": [
    {
     "name": "stdout",
     "output_type": "stream",
     "text": [
      "[1 2 3 4 5]\n",
      "[1 2 3 4]\n"
     ]
    }
   ],
   "source": [
    "# append\n",
    "\n",
    "arr = np.array([1, 2, 3, 4])\n",
    "\n",
    "print(np.append(arr, 5))\n",
    "print(arr)"
   ]
  },
  {
   "cell_type": "code",
   "execution_count": 30,
   "id": "dd96da33-0931-4ea7-a20f-6c8e76bd83b4",
   "metadata": {},
   "outputs": [
    {
     "name": "stdout",
     "output_type": "stream",
     "text": [
      "[1 2 3 4 6 7]\n"
     ]
    }
   ],
   "source": [
    "arr = np.append(arr, [6, 7])\n",
    "print(arr)"
   ]
  },
  {
   "cell_type": "code",
   "execution_count": 34,
   "id": "8b1077df-d16e-4086-94a9-39f6a290120b",
   "metadata": {},
   "outputs": [
    {
     "name": "stdout",
     "output_type": "stream",
     "text": [
      "[1 2 3 4 5 6 7]\n"
     ]
    }
   ],
   "source": [
    "arr = np.array([[1,2,3], [4,5,6]])\n",
    "\n",
    "print(np.append(arr, 7)) # converts the array in one dimension and then append the value."
   ]
  },
  {
   "cell_type": "code",
   "execution_count": 35,
   "id": "0df6aac6-01bb-40ce-917e-ce64fb54f656",
   "metadata": {},
   "outputs": [
    {
     "name": "stdout",
     "output_type": "stream",
     "text": [
      "[1 2 3 4 5 6 8 9]\n"
     ]
    }
   ],
   "source": [
    "print(np.append(arr, [8, 9]))"
   ]
  },
  {
   "cell_type": "code",
   "execution_count": 40,
   "id": "53d4908a-829c-4054-9b35-ef8e63a978c1",
   "metadata": {},
   "outputs": [
    {
     "name": "stdout",
     "output_type": "stream",
     "text": [
      "[1 2 3 4 5 6 7 8 9]\n"
     ]
    }
   ],
   "source": [
    "print(np.append(arr, [7, 8, 9]))"
   ]
  },
  {
   "cell_type": "code",
   "execution_count": 41,
   "id": "93fdf913-4902-49d7-9d6e-a2710a94a7a2",
   "metadata": {},
   "outputs": [
    {
     "name": "stdout",
     "output_type": "stream",
     "text": [
      "[ 1 10  2  3  4]\n"
     ]
    }
   ],
   "source": [
    "# insert\n",
    "\n",
    "arr = arr = np.array([1, 2, 3, 4])\n",
    "\n",
    "print(np.insert(arr, 1, 10))"
   ]
  },
  {
   "cell_type": "code",
   "execution_count": 42,
   "id": "68617461-5e86-4f8f-bc1e-d97d4e1bd574",
   "metadata": {},
   "outputs": [
    {
     "name": "stdout",
     "output_type": "stream",
     "text": [
      "[ 1  2 10 20  3  4]\n"
     ]
    }
   ],
   "source": [
    "print(np.insert(arr, 2, [10, 20]))"
   ]
  },
  {
   "cell_type": "code",
   "execution_count": 45,
   "id": "3695c22b-5e62-422f-810e-3e891b7ca28b",
   "metadata": {},
   "outputs": [
    {
     "name": "stdout",
     "output_type": "stream",
     "text": [
      "[1 5 2 3 4]\n"
     ]
    }
   ],
   "source": [
    "print(np.insert(arr, 1, 5, axis = 0))"
   ]
  },
  {
   "cell_type": "code",
   "execution_count": 46,
   "id": "bec1b804-531d-4d9d-976f-ffa5835f0e2f",
   "metadata": {},
   "outputs": [
    {
     "ename": "AxisError",
     "evalue": "axis 1 is out of bounds for array of dimension 1",
     "output_type": "error",
     "traceback": [
      "\u001b[1;31m---------------------------------------------------------------------------\u001b[0m",
      "\u001b[1;31mAxisError\u001b[0m                                 Traceback (most recent call last)",
      "Cell \u001b[1;32mIn [46], line 1\u001b[0m\n\u001b[1;32m----> 1\u001b[0m \u001b[38;5;28mprint\u001b[39m(\u001b[43mnp\u001b[49m\u001b[38;5;241;43m.\u001b[39;49m\u001b[43minsert\u001b[49m\u001b[43m(\u001b[49m\u001b[43marr\u001b[49m\u001b[43m,\u001b[49m\u001b[43m \u001b[49m\u001b[38;5;241;43m1\u001b[39;49m\u001b[43m,\u001b[49m\u001b[43m \u001b[49m\u001b[38;5;241;43m5\u001b[39;49m\u001b[43m,\u001b[49m\u001b[43m \u001b[49m\u001b[43maxis\u001b[49m\u001b[43m \u001b[49m\u001b[38;5;241;43m=\u001b[39;49m\u001b[43m \u001b[49m\u001b[38;5;241;43m1\u001b[39;49m\u001b[43m)\u001b[49m)\n",
      "File \u001b[1;32m<__array_function__ internals>:200\u001b[0m, in \u001b[0;36minsert\u001b[1;34m(*args, **kwargs)\u001b[0m\n",
      "File \u001b[1;32m~\\AppData\\Local\\Programs\\Python\\Python310\\lib\\site-packages\\numpy\\lib\\function_base.py:5356\u001b[0m, in \u001b[0;36minsert\u001b[1;34m(arr, obj, values, axis)\u001b[0m\n\u001b[0;32m   5354\u001b[0m     axis \u001b[38;5;241m=\u001b[39m ndim \u001b[38;5;241m-\u001b[39m \u001b[38;5;241m1\u001b[39m\n\u001b[0;32m   5355\u001b[0m \u001b[38;5;28;01melse\u001b[39;00m:\n\u001b[1;32m-> 5356\u001b[0m     axis \u001b[38;5;241m=\u001b[39m \u001b[43mnormalize_axis_index\u001b[49m\u001b[43m(\u001b[49m\u001b[43maxis\u001b[49m\u001b[43m,\u001b[49m\u001b[43m \u001b[49m\u001b[43mndim\u001b[49m\u001b[43m)\u001b[49m\n\u001b[0;32m   5357\u001b[0m slobj \u001b[38;5;241m=\u001b[39m [\u001b[38;5;28mslice\u001b[39m(\u001b[38;5;28;01mNone\u001b[39;00m)]\u001b[38;5;241m*\u001b[39mndim\n\u001b[0;32m   5358\u001b[0m N \u001b[38;5;241m=\u001b[39m arr\u001b[38;5;241m.\u001b[39mshape[axis]\n",
      "\u001b[1;31mAxisError\u001b[0m: axis 1 is out of bounds for array of dimension 1"
     ]
    }
   ],
   "source": [
    "print(np.insert(arr, 1, 5, axis = 1))"
   ]
  },
  {
   "cell_type": "code",
   "execution_count": 48,
   "id": "38cd7b5b-2ca9-4b6c-9985-f978dc356b47",
   "metadata": {},
   "outputs": [
    {
     "name": "stdout",
     "output_type": "stream",
     "text": [
      "[1 5 2 3 4 5 6]\n"
     ]
    }
   ],
   "source": [
    "arr = np.array([[1,2,3], [4,5,6]])\n",
    "\n",
    "print(np.insert(arr, 1, 5)) # if we didn't provide axis, it converts array into one dimention then inserts the value."
   ]
  },
  {
   "cell_type": "code",
   "execution_count": 49,
   "id": "5c526602-0984-4413-bc10-6d6383cc1fa9",
   "metadata": {},
   "outputs": [
    {
     "name": "stdout",
     "output_type": "stream",
     "text": [
      "[ 1  2 30 40  3  4  5  6]\n"
     ]
    }
   ],
   "source": [
    "print(np.insert(arr, 2, [30, 40]))"
   ]
  },
  {
   "cell_type": "code",
   "execution_count": 50,
   "id": "043df261-8ead-43e9-9d05-e712ff2731a7",
   "metadata": {},
   "outputs": [
    {
     "ename": "ValueError",
     "evalue": "could not broadcast input array from shape (1,2) into shape (1,3)",
     "output_type": "error",
     "traceback": [
      "\u001b[1;31m---------------------------------------------------------------------------\u001b[0m",
      "\u001b[1;31mValueError\u001b[0m                                Traceback (most recent call last)",
      "Cell \u001b[1;32mIn [50], line 1\u001b[0m\n\u001b[1;32m----> 1\u001b[0m \u001b[38;5;28mprint\u001b[39m(\u001b[43mnp\u001b[49m\u001b[38;5;241;43m.\u001b[39;49m\u001b[43minsert\u001b[49m\u001b[43m(\u001b[49m\u001b[43marr\u001b[49m\u001b[43m,\u001b[49m\u001b[43m \u001b[49m\u001b[38;5;241;43m2\u001b[39;49m\u001b[43m,\u001b[49m\u001b[43m \u001b[49m\u001b[43m[\u001b[49m\u001b[38;5;241;43m30\u001b[39;49m\u001b[43m,\u001b[49m\u001b[43m \u001b[49m\u001b[38;5;241;43m40\u001b[39;49m\u001b[43m]\u001b[49m\u001b[43m,\u001b[49m\u001b[43m \u001b[49m\u001b[43maxis\u001b[49m\u001b[43m \u001b[49m\u001b[38;5;241;43m=\u001b[39;49m\u001b[43m \u001b[49m\u001b[38;5;241;43m0\u001b[39;49m\u001b[43m)\u001b[49m)\n",
      "File \u001b[1;32m<__array_function__ internals>:200\u001b[0m, in \u001b[0;36minsert\u001b[1;34m(*args, **kwargs)\u001b[0m\n",
      "File \u001b[1;32m~\\AppData\\Local\\Programs\\Python\\Python310\\lib\\site-packages\\numpy\\lib\\function_base.py:5406\u001b[0m, in \u001b[0;36minsert\u001b[1;34m(arr, obj, values, axis)\u001b[0m\n\u001b[0;32m   5404\u001b[0m new[\u001b[38;5;28mtuple\u001b[39m(slobj)] \u001b[38;5;241m=\u001b[39m arr[\u001b[38;5;28mtuple\u001b[39m(slobj)]\n\u001b[0;32m   5405\u001b[0m slobj[axis] \u001b[38;5;241m=\u001b[39m \u001b[38;5;28mslice\u001b[39m(index, index\u001b[38;5;241m+\u001b[39mnumnew)\n\u001b[1;32m-> 5406\u001b[0m \u001b[43mnew\u001b[49m\u001b[43m[\u001b[49m\u001b[38;5;28;43mtuple\u001b[39;49m\u001b[43m(\u001b[49m\u001b[43mslobj\u001b[49m\u001b[43m)\u001b[49m\u001b[43m]\u001b[49m \u001b[38;5;241m=\u001b[39m values\n\u001b[0;32m   5407\u001b[0m slobj[axis] \u001b[38;5;241m=\u001b[39m \u001b[38;5;28mslice\u001b[39m(index\u001b[38;5;241m+\u001b[39mnumnew, \u001b[38;5;28;01mNone\u001b[39;00m)\n\u001b[0;32m   5408\u001b[0m slobj2 \u001b[38;5;241m=\u001b[39m [\u001b[38;5;28mslice\u001b[39m(\u001b[38;5;28;01mNone\u001b[39;00m)] \u001b[38;5;241m*\u001b[39m ndim\n",
      "\u001b[1;31mValueError\u001b[0m: could not broadcast input array from shape (1,2) into shape (1,3)"
     ]
    }
   ],
   "source": [
    "print(np.insert(arr, 2, [30, 40], axis = 0))"
   ]
  },
  {
   "cell_type": "code",
   "execution_count": 51,
   "id": "2eef89ad-1703-41d0-9620-1f703257da4e",
   "metadata": {},
   "outputs": [
    {
     "name": "stdout",
     "output_type": "stream",
     "text": [
      "[[ 1  2  3]\n",
      " [ 4  5  6]\n",
      " [30 30 30]]\n"
     ]
    }
   ],
   "source": [
    "print(np.insert(arr, 2, [30], axis = 0))"
   ]
  },
  {
   "cell_type": "code",
   "execution_count": 52,
   "id": "cefb88bd-a3e2-4fe9-b964-e4189104804b",
   "metadata": {},
   "outputs": [
    {
     "name": "stdout",
     "output_type": "stream",
     "text": [
      "[[ 1  2 30  3]\n",
      " [ 4  5 30  6]]\n"
     ]
    }
   ],
   "source": [
    "print(np.insert(arr, 2, [30], axis = 1))"
   ]
  },
  {
   "cell_type": "code",
   "execution_count": 53,
   "id": "70221cc6-aa66-4106-a9ae-b57372358be9",
   "metadata": {},
   "outputs": [
    {
     "name": "stdout",
     "output_type": "stream",
     "text": [
      "[[ 1  2  3]\n",
      " [ 4  5  6]\n",
      " [30 40 60]]\n"
     ]
    }
   ],
   "source": [
    "print(np.insert(arr, 2, [30, 40, 60], axis = 0))"
   ]
  },
  {
   "cell_type": "code",
   "execution_count": 55,
   "id": "4d08d48e-b176-4438-8a1b-42f45b6091ef",
   "metadata": {},
   "outputs": [
    {
     "ename": "ValueError",
     "evalue": "could not broadcast input array from shape (3,1) into shape (2,1)",
     "output_type": "error",
     "traceback": [
      "\u001b[1;31m---------------------------------------------------------------------------\u001b[0m",
      "\u001b[1;31mValueError\u001b[0m                                Traceback (most recent call last)",
      "Cell \u001b[1;32mIn [55], line 1\u001b[0m\n\u001b[1;32m----> 1\u001b[0m \u001b[38;5;28mprint\u001b[39m(\u001b[43mnp\u001b[49m\u001b[38;5;241;43m.\u001b[39;49m\u001b[43minsert\u001b[49m\u001b[43m(\u001b[49m\u001b[43marr\u001b[49m\u001b[43m,\u001b[49m\u001b[43m \u001b[49m\u001b[38;5;241;43m2\u001b[39;49m\u001b[43m,\u001b[49m\u001b[43m \u001b[49m\u001b[43m[\u001b[49m\u001b[38;5;241;43m30\u001b[39;49m\u001b[43m,\u001b[49m\u001b[43m \u001b[49m\u001b[38;5;241;43m40\u001b[39;49m\u001b[43m,\u001b[49m\u001b[43m \u001b[49m\u001b[38;5;241;43m60\u001b[39;49m\u001b[43m]\u001b[49m\u001b[43m,\u001b[49m\u001b[43m \u001b[49m\u001b[43maxis\u001b[49m\u001b[43m \u001b[49m\u001b[38;5;241;43m=\u001b[39;49m\u001b[43m \u001b[49m\u001b[38;5;241;43m1\u001b[39;49m\u001b[43m)\u001b[49m)\n",
      "File \u001b[1;32m<__array_function__ internals>:200\u001b[0m, in \u001b[0;36minsert\u001b[1;34m(*args, **kwargs)\u001b[0m\n",
      "File \u001b[1;32m~\\AppData\\Local\\Programs\\Python\\Python310\\lib\\site-packages\\numpy\\lib\\function_base.py:5406\u001b[0m, in \u001b[0;36minsert\u001b[1;34m(arr, obj, values, axis)\u001b[0m\n\u001b[0;32m   5404\u001b[0m new[\u001b[38;5;28mtuple\u001b[39m(slobj)] \u001b[38;5;241m=\u001b[39m arr[\u001b[38;5;28mtuple\u001b[39m(slobj)]\n\u001b[0;32m   5405\u001b[0m slobj[axis] \u001b[38;5;241m=\u001b[39m \u001b[38;5;28mslice\u001b[39m(index, index\u001b[38;5;241m+\u001b[39mnumnew)\n\u001b[1;32m-> 5406\u001b[0m \u001b[43mnew\u001b[49m\u001b[43m[\u001b[49m\u001b[38;5;28;43mtuple\u001b[39;49m\u001b[43m(\u001b[49m\u001b[43mslobj\u001b[49m\u001b[43m)\u001b[49m\u001b[43m]\u001b[49m \u001b[38;5;241m=\u001b[39m values\n\u001b[0;32m   5407\u001b[0m slobj[axis] \u001b[38;5;241m=\u001b[39m \u001b[38;5;28mslice\u001b[39m(index\u001b[38;5;241m+\u001b[39mnumnew, \u001b[38;5;28;01mNone\u001b[39;00m)\n\u001b[0;32m   5408\u001b[0m slobj2 \u001b[38;5;241m=\u001b[39m [\u001b[38;5;28mslice\u001b[39m(\u001b[38;5;28;01mNone\u001b[39;00m)] \u001b[38;5;241m*\u001b[39m ndim\n",
      "\u001b[1;31mValueError\u001b[0m: could not broadcast input array from shape (3,1) into shape (2,1)"
     ]
    }
   ],
   "source": [
    "print(np.insert(arr, 2, [30, 40, 60], axis = 1))"
   ]
  },
  {
   "cell_type": "code",
   "execution_count": 56,
   "id": "09c78a4b-da62-4fae-8c23-2f368cd4d711",
   "metadata": {},
   "outputs": [
    {
     "name": "stdout",
     "output_type": "stream",
     "text": [
      "[[ 1  2 30  3]\n",
      " [ 4  5 40  6]]\n"
     ]
    }
   ],
   "source": [
    "print(np.insert(arr, 2, [30, 40], axis = 1))"
   ]
  },
  {
   "cell_type": "code",
   "execution_count": 57,
   "id": "1deac663-44e4-481b-b031-020d766b8351",
   "metadata": {},
   "outputs": [
    {
     "name": "stdout",
     "output_type": "stream",
     "text": [
      "[1 3 4]\n",
      "[1 2 3 4]\n"
     ]
    }
   ],
   "source": [
    "# delete\n",
    "\n",
    "arr = np.array([1, 2, 3, 4])\n",
    "\n",
    "print(np.delete(arr, 1))\n",
    "print(arr)"
   ]
  },
  {
   "cell_type": "code",
   "execution_count": 59,
   "id": "d37db789-2eaf-484c-9e71-e31c47b114a7",
   "metadata": {},
   "outputs": [
    {
     "name": "stdout",
     "output_type": "stream",
     "text": [
      "[1 2 4 5 6]\n",
      "[[1 2 3]\n",
      " [4 5 6]]\n"
     ]
    }
   ],
   "source": [
    "arr = np.array([[1, 2, 3], [4, 5, 6]])\n",
    "\n",
    "print(np.delete(arr, 2)) # converts array in one dimention the deletes the element.\n",
    "print(arr)"
   ]
  },
  {
   "cell_type": "code",
   "execution_count": 60,
   "id": "3ac8ea4b-8273-48b9-a173-1d6058f9cf0e",
   "metadata": {},
   "outputs": [
    {
     "name": "stdout",
     "output_type": "stream",
     "text": [
      "[[4 5 6]]\n"
     ]
    }
   ],
   "source": [
    "print(np.delete(arr, 0, axis = 0))"
   ]
  },
  {
   "cell_type": "code",
   "execution_count": 61,
   "id": "cf4887f3-0b36-4213-a691-235457f783e6",
   "metadata": {},
   "outputs": [
    {
     "name": "stdout",
     "output_type": "stream",
     "text": [
      "[[2 3]\n",
      " [5 6]]\n"
     ]
    }
   ],
   "source": [
    "print(np.delete(arr, 0, axis = 1))"
   ]
  },
  {
   "cell_type": "markdown",
   "id": "90aab985-5659-483d-bad2-1c0beb82f69f",
   "metadata": {},
   "source": [
    "### Search, Sort, and Filter Arrays"
   ]
  },
  {
   "cell_type": "code",
   "execution_count": 63,
   "id": "483a3035-820f-434a-bf06-6d1ff1570dde",
   "metadata": {},
   "outputs": [
    {
     "name": "stdout",
     "output_type": "stream",
     "text": [
      "[0 1 3 5 6 9]\n",
      "[1 5 9 6 0 3]\n"
     ]
    }
   ],
   "source": [
    "# Sort\n",
    "\n",
    "arr = np.array([1, 5 , 9, 6, 0, 3])\n",
    "\n",
    "print(np.sort(arr))\n",
    "print(arr)"
   ]
  },
  {
   "cell_type": "code",
   "execution_count": 65,
   "id": "cccc3e1f-b38d-4e6d-a8b5-0deb00a19c72",
   "metadata": {},
   "outputs": [
    {
     "name": "stdout",
     "output_type": "stream",
     "text": [
      "[[0 1 3]\n",
      " [4 6 7]]\n"
     ]
    }
   ],
   "source": [
    "arr = np.array([[1, 0, 3], [4, 7, 6]])\n",
    "\n",
    "print(np.sort(arr))"
   ]
  },
  {
   "cell_type": "code",
   "execution_count": 67,
   "id": "5406460b-8e1c-4f07-9809-f4be329dc1a3",
   "metadata": {},
   "outputs": [
    {
     "name": "stdout",
     "output_type": "stream",
     "text": [
      "[[4 6 7]\n",
      " [0 1 3]]\n"
     ]
    }
   ],
   "source": [
    "print(np.sort(arr)[::-1])"
   ]
  },
  {
   "cell_type": "code",
   "execution_count": 68,
   "id": "91eb7115-b071-46ab-a289-4ce6cdbd98a8",
   "metadata": {},
   "outputs": [
    {
     "name": "stdout",
     "output_type": "stream",
     "text": [
      "(array([1], dtype=int64),)\n"
     ]
    }
   ],
   "source": [
    "# search\n",
    "\n",
    "arr = np.array([1, 2, 8, 9, 5])\n",
    "\n",
    "s = np.where(arr == 2)\n",
    "print(s)"
   ]
  },
  {
   "cell_type": "code",
   "execution_count": 69,
   "id": "af7ed0c1-d6ef-4e75-b495-a1508a0f54b8",
   "metadata": {},
   "outputs": [
    {
     "name": "stdout",
     "output_type": "stream",
     "text": [
      "(array([1, 2], dtype=int64),)\n"
     ]
    }
   ],
   "source": [
    "s = np.where(arr%2 == 0)\n",
    "print(s)"
   ]
  },
  {
   "cell_type": "code",
   "execution_count": 71,
   "id": "7dd13bac-51a2-4108-afed-b6a86f1836b7",
   "metadata": {},
   "outputs": [
    {
     "name": "stdout",
     "output_type": "stream",
     "text": [
      "1\n"
     ]
    }
   ],
   "source": [
    "arr = np.array([1, 2, 3, 4, 5])\n",
    "\n",
    "ss = np.searchsorted(arr, 2)\n",
    "print(ss)"
   ]
  },
  {
   "cell_type": "code",
   "execution_count": 72,
   "id": "3add62cf-33c9-4c1f-afff-b5fd1b54d3f1",
   "metadata": {},
   "outputs": [
    {
     "name": "stdout",
     "output_type": "stream",
     "text": [
      "4\n"
     ]
    }
   ],
   "source": [
    "ss = np.searchsorted(arr, 5)\n",
    "print(ss)"
   ]
  },
  {
   "cell_type": "code",
   "execution_count": 78,
   "id": "de87aba7-0f68-4078-98db-d17ceeb49a1a",
   "metadata": {},
   "outputs": [
    {
     "name": "stdout",
     "output_type": "stream",
     "text": [
      "0\n"
     ]
    }
   ],
   "source": [
    "arr = np.array([1, 5, 2, 4, 3, 8])\n",
    "\n",
    "print(np.searchsorted(arr, 1))"
   ]
  },
  {
   "cell_type": "code",
   "execution_count": 79,
   "id": "ae4c2b85-b55a-487d-aa67-8490d15e1473",
   "metadata": {},
   "outputs": [
    {
     "name": "stdout",
     "output_type": "stream",
     "text": [
      "1\n"
     ]
    }
   ],
   "source": [
    "print(np.searchsorted(arr, 2))"
   ]
  },
  {
   "cell_type": "code",
   "execution_count": 80,
   "id": "f270e89f-e5bd-424d-877d-351e17d80187",
   "metadata": {},
   "outputs": [
    {
     "name": "stdout",
     "output_type": "stream",
     "text": [
      "5\n"
     ]
    }
   ],
   "source": [
    "print(np.searchsorted(arr, 8))"
   ]
  },
  {
   "cell_type": "code",
   "execution_count": 86,
   "id": "2601f869-2b08-4919-af79-aa98b77284f1",
   "metadata": {},
   "outputs": [
    {
     "name": "stdout",
     "output_type": "stream",
     "text": [
      "(array([], dtype=int64),)\n"
     ]
    }
   ],
   "source": [
    "arr = np.array([[1, 3, 4], [2, 6, 5]])\n",
    "\n",
    "s = np.where(arr[0] == 2)\n",
    "\n",
    "print(s)"
   ]
  },
  {
   "cell_type": "code",
   "execution_count": 88,
   "id": "e29ca079-bbe2-49bf-9c9a-7b10c84eef04",
   "metadata": {},
   "outputs": [
    {
     "name": "stdout",
     "output_type": "stream",
     "text": [
      "(array([1], dtype=int64), array([0], dtype=int64))\n"
     ]
    }
   ],
   "source": [
    "s = np.where(arr == 2)\n",
    "print(s)"
   ]
  },
  {
   "cell_type": "code",
   "execution_count": 82,
   "id": "d1a6dfaa-ab5c-4963-84e0-f3f514e41723",
   "metadata": {},
   "outputs": [
    {
     "name": "stdout",
     "output_type": "stream",
     "text": [
      "[20 40]\n"
     ]
    }
   ],
   "source": [
    "# filter\n",
    "\n",
    "arr = np.array([20,30,40,50])\n",
    "\n",
    "filter_array = [True, False, True, False]\n",
    "\n",
    "new_array = arr[filter_array]\n",
    "\n",
    "print(new_array)"
   ]
  },
  {
   "cell_type": "code",
   "execution_count": 83,
   "id": "a011ea85-a915-43bd-9a16-4a721acfd1bf",
   "metadata": {},
   "outputs": [
    {
     "name": "stdout",
     "output_type": "stream",
     "text": [
      "[40 50]\n"
     ]
    }
   ],
   "source": [
    "fa = arr > 35\n",
    "\n",
    "print(arr[fa])"
   ]
  },
  {
   "cell_type": "code",
   "execution_count": 85,
   "id": "1f88441e-1263-4630-b937-b544c9376804",
   "metadata": {},
   "outputs": [
    {
     "name": "stdout",
     "output_type": "stream",
     "text": [
      "[30]\n"
     ]
    }
   ],
   "source": [
    "fa = arr % 3 == 0\n",
    "\n",
    "print(arr[fa])"
   ]
  },
  {
   "cell_type": "code",
   "execution_count": 90,
   "id": "e62f13a1-57fc-4bb7-9103-679bdca94e29",
   "metadata": {},
   "outputs": [
    {
     "name": "stdout",
     "output_type": "stream",
     "text": [
      "[30 40 50 60]\n"
     ]
    }
   ],
   "source": [
    "arr = np.array([[10, 30, 20], [40, 50, 60]])\n",
    "\n",
    "fa = (arr >= 30)\n",
    "\n",
    "print(arr[fa])"
   ]
  },
  {
   "cell_type": "code",
   "execution_count": 91,
   "id": "2d12ffd9-d405-4828-9b2b-0dd4f146d631",
   "metadata": {},
   "outputs": [
    {
     "name": "stdout",
     "output_type": "stream",
     "text": [
      "[30 60]\n"
     ]
    }
   ],
   "source": [
    "fa = (arr%3 == 0)\n",
    "\n",
    "print(arr[fa])"
   ]
  },
  {
   "cell_type": "markdown",
   "id": "bd99cc7d-8cea-457a-9911-a6a2a138f26a",
   "metadata": {},
   "source": [
    "### Aggregating Functions in Arrays"
   ]
  },
  {
   "cell_type": "code",
   "execution_count": 92,
   "id": "447e07c3-5c26-411d-8e44-28882a6af1c7",
   "metadata": {},
   "outputs": [
    {
     "name": "stdout",
     "output_type": "stream",
     "text": [
      "174\n"
     ]
    }
   ],
   "source": [
    "arr = np.array([17, 29, 35, 40, 53])\n",
    "\n",
    "print(np.sum(arr))"
   ]
  },
  {
   "cell_type": "code",
   "execution_count": 93,
   "id": "46f73fac-10cb-46c5-b5a2-41be776dd302",
   "metadata": {},
   "outputs": [
    {
     "name": "stdout",
     "output_type": "stream",
     "text": [
      "17\n"
     ]
    }
   ],
   "source": [
    "print(np.min(arr))"
   ]
  },
  {
   "cell_type": "code",
   "execution_count": 94,
   "id": "97672485-5773-4a4e-9058-0765fc8a2639",
   "metadata": {},
   "outputs": [
    {
     "name": "stdout",
     "output_type": "stream",
     "text": [
      "53\n"
     ]
    }
   ],
   "source": [
    "print(np.max(arr))"
   ]
  },
  {
   "cell_type": "code",
   "execution_count": 95,
   "id": "5928124f-496e-46d4-ad2d-d77ba5dd4eca",
   "metadata": {},
   "outputs": [
    {
     "name": "stdout",
     "output_type": "stream",
     "text": [
      "5\n"
     ]
    }
   ],
   "source": [
    "print(np.size(arr))"
   ]
  },
  {
   "cell_type": "code",
   "execution_count": 97,
   "id": "f53e1a17-b0cf-45d2-9145-b04b68828260",
   "metadata": {},
   "outputs": [
    {
     "name": "stdout",
     "output_type": "stream",
     "text": [
      "34.8\n"
     ]
    }
   ],
   "source": [
    "print(np.mean(arr)) # it gives the avrage value"
   ]
  },
  {
   "cell_type": "code",
   "execution_count": 98,
   "id": "d03deea8-0673-4c29-807c-5263694b140f",
   "metadata": {},
   "outputs": [
    {
     "name": "stdout",
     "output_type": "stream",
     "text": [
      "[ 17  46  81 121 174]\n"
     ]
    }
   ],
   "source": [
    "print(np.cumsum(arr)) # cumulative sum --> it adds all the previous index value along with current index and gives the result."
   ]
  },
  {
   "cell_type": "code",
   "execution_count": 99,
   "id": "dd9b2e57-5dd0-4a5d-abaa-c6d036c3125d",
   "metadata": {},
   "outputs": [
    {
     "name": "stdout",
     "output_type": "stream",
     "text": [
      "[      17      493    17255   690200 36580600]\n"
     ]
    }
   ],
   "source": [
    "print(np.cumprod(arr))"
   ]
  },
  {
   "cell_type": "code",
   "execution_count": 100,
   "id": "62578903-8e8d-4fa8-a00b-578ab6943b63",
   "metadata": {},
   "outputs": [
    {
     "name": "stdout",
     "output_type": "stream",
     "text": [
      "[       100      25000    1250000   37500000  112500000  450000000\n",
      " -694967296  125163520]\n"
     ]
    }
   ],
   "source": [
    "a = [100, 250, 50, 30]\n",
    "b = [3, 4, 8, 6]\n",
    "\n",
    "price = np.array(a)\n",
    "quantity = np.array(b)\n",
    "\n",
    "c = np.cumprod([price, quantity])\n",
    "\n",
    "print(c)"
   ]
  },
  {
   "cell_type": "code",
   "execution_count": 102,
   "id": "07e5b8cb-18c4-4cea-8ea2-38a2e87d3fcf",
   "metadata": {},
   "outputs": [
    {
     "name": "stdout",
     "output_type": "stream",
     "text": [
      "[[     100    25000  1250000 37500000]\n",
      " [       3       12       96      576]]\n"
     ]
    }
   ],
   "source": [
    "c = np.cumprod([price, quantity], axis = 1)\n",
    "\n",
    "print(c)"
   ]
  },
  {
   "cell_type": "code",
   "execution_count": 103,
   "id": "42ff58b7-2b34-4e5a-9ec1-545ec4a994df",
   "metadata": {},
   "outputs": [
    {
     "name": "stdout",
     "output_type": "stream",
     "text": [
      "[[ 100  250   50   30]\n",
      " [ 300 1000  400  180]]\n"
     ]
    }
   ],
   "source": [
    "c = np.cumprod([price, quantity], axis = 0)\n",
    "\n",
    "print(c)"
   ]
  },
  {
   "cell_type": "code",
   "execution_count": 104,
   "id": "1a8d88f0-021d-4551-a075-f8ffe1117580",
   "metadata": {},
   "outputs": [
    {
     "name": "stdout",
     "output_type": "stream",
     "text": [
      "[ 300 1000  400  180]\n"
     ]
    }
   ],
   "source": [
    "print(c[1])"
   ]
  },
  {
   "cell_type": "code",
   "execution_count": 106,
   "id": "92c220da-397a-456c-8de0-aee30e0dfa15",
   "metadata": {},
   "outputs": [
    {
     "name": "stdout",
     "output_type": "stream",
     "text": [
      "1880\n"
     ]
    }
   ],
   "source": [
    "total_price = c[1].sum()\n",
    "\n",
    "print(total_price)"
   ]
  },
  {
   "cell_type": "markdown",
   "id": "1d87c035-54b2-4212-9528-61298f36d9e4",
   "metadata": {},
   "source": [
    "### Statistical Functions in Arrays"
   ]
  },
  {
   "cell_type": "code",
   "execution_count": 111,
   "id": "8f70562b-d0a3-48e4-a8a8-9a1af037f91e",
   "metadata": {},
   "outputs": [
    {
     "name": "stdout",
     "output_type": "stream",
     "text": [
      "182.375\n",
      "180.0\n",
      "100\n"
     ]
    }
   ],
   "source": [
    "import statistics as stats\n",
    "baked_food = np.array([100, 289, 230, 180, 150, 230, 100, 180])\n",
    "\n",
    "print(np.mean(baked_food)) # sum of all val / number of val\n",
    "print(np.median(baked_food)) # central val after sorting (even - it give exact center val after some calculation).\n",
    "print(stats.mode(baked_food)) # the first occurence val repeated more times."
   ]
  },
  {
   "cell_type": "code",
   "execution_count": 113,
   "id": "a722c46a-78af-4c51-b641-7107e8d46daf",
   "metadata": {},
   "outputs": [
    {
     "name": "stdout",
     "output_type": "stream",
     "text": [
      "61.78174791149891\n"
     ]
    }
   ],
   "source": [
    "# Standard deviation is a measure of the amount of variation or dispersion in a set of values. sd = sqrt(variance)\n",
    "print(np.std(baked_food))"
   ]
  },
  {
   "cell_type": "code",
   "execution_count": 114,
   "id": "7b0d9a8a-1ccb-4c7c-9d0f-d8cb33a0a919",
   "metadata": {},
   "outputs": [
    {
     "name": "stdout",
     "output_type": "stream",
     "text": [
      "3816.984375\n"
     ]
    }
   ],
   "source": [
    "print(np.var(baked_food))"
   ]
  },
  {
   "cell_type": "code",
   "execution_count": 115,
   "id": "e08ba3f2-34c9-46d7-aea3-976a2f39b71a",
   "metadata": {},
   "outputs": [
    {
     "name": "stdout",
     "output_type": "stream",
     "text": [
      "[[ 1.         -0.03523714]\n",
      " [-0.03523714  1.        ]]\n"
     ]
    }
   ],
   "source": [
    "# -1 represents inversly propotional relationship\n",
    "# 1 represents propotional relationship\n",
    "# 0 means no relationship\n",
    "\n",
    "sales = [100, 200, 350, 120, 200]\n",
    "price = [10, 30, 26, 50, 34]\n",
    "\n",
    "print(np.corrcoef([sales, price]))"
   ]
  },
  {
   "cell_type": "code",
   "execution_count": null,
   "id": "c2ff66fe-4313-41f3-a7f3-17969ee7708b",
   "metadata": {},
   "outputs": [],
   "source": []
  }
 ],
 "metadata": {
  "kernelspec": {
   "display_name": "Python 3 (ipykernel)",
   "language": "python",
   "name": "python3"
  },
  "language_info": {
   "codemirror_mode": {
    "name": "ipython",
    "version": 3
   },
   "file_extension": ".py",
   "mimetype": "text/x-python",
   "name": "python",
   "nbconvert_exporter": "python",
   "pygments_lexer": "ipython3",
   "version": "3.10.6"
  }
 },
 "nbformat": 4,
 "nbformat_minor": 5
}
